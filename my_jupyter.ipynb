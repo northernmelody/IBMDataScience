{
 "cells": [
  {
   "cell_type": "markdown",
   "id": "e0644fcc-c612-4065-8462-37e37a9714ad",
   "metadata": {},
   "source": [
    "# My Jupyter Notebook on IBM Watson Studio"
   ]
  },
  {
   "cell_type": "markdown",
   "id": "48fc3d93-c0ad-41a4-9e4c-c202bab8a3e9",
   "metadata": {},
   "source": [
    "**Weilin hu**"
   ]
  },
  {
   "cell_type": "markdown",
   "id": "591902b4-3e23-4130-846b-0fd7a9586233",
   "metadata": {},
   "source": [
    "*I am interested in data science because I want to figure out the insights from mess data*"
   ]
  },
  {
   "cell_type": "markdown",
   "id": "ba20688f-6798-4600-b851-245b90fa8266",
   "metadata": {},
   "source": [
    "### I will write a python fuction to show how to solve the problem \"Sum of squares of two numbers\""
   ]
  },
  {
   "cell_type": "code",
   "execution_count": 1,
   "id": "b590d124-d2ec-44f6-8c45-0ca0c3d49db2",
   "metadata": {
    "tags": []
   },
   "outputs": [
    {
     "data": {
      "text/plain": [
       "1573"
      ]
     },
     "execution_count": 1,
     "metadata": {},
     "output_type": "execute_result"
    }
   ],
   "source": [
    "def squr_sum(a,b):\n",
    "    return (a ** 2 + b ** 2)\n",
    "\n",
    "squr_sum(22,33)"
   ]
  },
  {
   "cell_type": "markdown",
   "id": "ac8a0ab6-5bfa-4bdc-aca6-03b1405bc435",
   "metadata": {},
   "source": [
    "---\n",
    "* one\n",
    "* two\n",
    "- three\n",
    "1. Python\n",
    "2. Github\n",
    "3. R\n",
    "\n",
    "|Rank|Name|Point|\n",
    "|------|------|------|\n",
    "|01|Team1|20|\n",
    "|02|Team2|19|\n",
    "\n",
    "[Coursera.org](www.coursera.org)\n",
    "```python\n",
    "def sum_two(a,b):\n",
    "    print(a+b)\n",
    "sum_two(10.23)\n",
    "```"
   ]
  },
  {
   "cell_type": "code",
   "execution_count": null,
   "id": "a2c6a36d-6093-4958-9acb-00a9fc0d070f",
   "metadata": {},
   "outputs": [],
   "source": []
  }
 ],
 "metadata": {
  "kernelspec": {
   "display_name": "Python 3 (ipykernel)",
   "language": "python",
   "name": "python3"
  },
  "language_info": {
   "codemirror_mode": {
    "name": "ipython",
    "version": 3
   },
   "file_extension": ".py",
   "mimetype": "text/x-python",
   "name": "python",
   "nbconvert_exporter": "python",
   "pygments_lexer": "ipython3",
   "version": "3.9.12"
  }
 },
 "nbformat": 4,
 "nbformat_minor": 5
}
